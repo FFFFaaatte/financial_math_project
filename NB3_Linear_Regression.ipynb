{
 "cells": [
  {
   "cell_type": "markdown",
   "metadata": {},
   "source": [
    "# Linear Regression"
   ]
  },
  {
   "cell_type": "markdown",
   "metadata": {},
   "source": [
    "\n",
    "In this notebook , our focus is on implementing linear regression for hedging purposes. To start off, we will begin by implementing some utility functions that will assist us in this process.\n",
    "![](https://miro.medium.com/v2/resize:fit:1200/1*tqBA_mQw1UExgVaF-JBneg.png)\n",
    "### Implementation of Helpful Functions for Linear Regression Hedge Model"
   ]
  },
  {
   "cell_type": "code",
   "execution_count": 1,
   "metadata": {},
   "outputs": [],
   "source": [
    "import warnings\n",
    "warnings.filterwarnings('ignore')\n",
    "import itertools\n",
    "import os\n",
    "import copy\n",
    "import numpy as np\n",
    "import pandas as pd\n",
    "from sklearn.linear_model import LinearRegression\n",
    "from sklearn.preprocessing import StandardScaler\n",
    "import matplotlib.pyplot as plt\n",
    "from pandas.tseries.offsets import BDay"
   ]
  },
  {
   "cell_type": "markdown",
   "metadata": {},
   "source": [
    "This function performs rolling linear regression on the provided dataframe and calculates delta values. It provides flexibility to include additional features, leverage calculations, and customization based on different parameters.\n",
    "\n",
    "Rolling linear regression refers to the process of applying a linear regression model to a sliding window of data points. Instead of performing regression on the entire dataset at once, it is done iteratively on sequential subsets of the data.\n",
    "\n",
    "In the context of this code, rolling linear regression is performed within each test period and group. It means that for each period and group combination, the code divides the data into training and testing subsets. The regression model is then fitted using the training data, and the resulting coefficients are used to predict target values for the corresponding testing data.\n",
    "\n",
    "By sliding the window through the dataset, the regression model is updated and applied to different subsets, capturing any changes or patterns in the relationship between the predictors and the target variable over time or across different groups. \n",
    "\n",
    "Code explanation:\n",
    "This code defines the `run_linear_regression` function, which performs rolling linear regression. The function takes several input parameters and returns a dictionary containing the resulting dataframes.\n",
    "\n",
    "- The function then initializes variables and data structures for storing the regression coefficients, fit standard deviations, and leverage values (if applicable).\n",
    "- The code loops through each test period and group in the dataframe. It separates the data into training and testing subsets based on the period and group.\n",
    "- Linear regression is performed on the training data, where the target variable is calculated based on the taret_var parameter and the feature values are multiplied by a factor derived from the stock prices.\n",
    "- The regression model is fitted, and the predicted target values, residuals, and standard deviations are calculated.\n",
    "- If the leverage parameter is set to True, an additional regression is performed on a subset of the training data, and the leverage values are computed based on the regression coefficients.\n",
    "- The regression coefficients, fit standard deviations, and leverage values are stored in their respective dataframes.\n",
    "- Delta values are predicted for the testing data using the regression model.\n",
    "- The delta values are calculated based on the taret_var parameter and the 'delta_bs' column of the original dataframe.\n",
    "- Finally, a dictionary containing the resulting dataframes is returned."
   ]
  },
  {
   "cell_type": "code",
   "execution_count": 2,
   "metadata": {},
   "outputs": [],
   "source": [
    "def run_linear_regression(sub_res=None, setup_name=None, features=None, df=None, max_period=None, taret_var=None, leverage=False):\n",
    "    \"\"\"\n",
    "    Run the linear regression and store the results in dataframes.\n",
    "    \"\"\"\n",
    "\n",
    "    # Perform rolling linear regression\n",
    "    deltas = pd.Series(index=df.index)\n",
    "    cols_by = ['cp_int']\n",
    "    \n",
    "    grouped = df.groupby(by=cols_by)\n",
    "    group_names = [str(x) for x in grouped.groups.keys()]\n",
    "    tmp = pd.MultiIndex.from_product([group_names, features])\n",
    "    df_coef, df_fit_std = [pd.DataFrame(index=range(max_period+1), columns=tmp) for _ in range(2)]\n",
    "    df_leverage = pd.DataFrame(index=range(max_period+1), columns=group_names) if leverage else None\n",
    "\n",
    "    for i in range(0, max_period + 1):\n",
    "        for name, group in grouped:\n",
    "            is_train = (group[f'period{i}'] == 0) | (group[f'period{i}'] == 1)\n",
    "            is_test = (group[f'period{i}'] == 2)\n",
    "\n",
    "            df_train = group.loc[is_train].copy()\n",
    "            df_test = group.loc[is_test].copy()\n",
    " \n",
    "            if taret_var:\n",
    "                target = df_train['V1_n'] - df_train['V0_n'] * df_train['on_ret'] - df_train['delta_bs'] * (\n",
    "                            df_train['S1_n'] - df_train['S0_n'] * df_train['on_ret'])\n",
    "            else:\n",
    "                target = df_train['V1_n'] - df_train['V0_n'] * df_train['on_ret']\n",
    "\n",
    "            predictors = df_train[features].copy()\n",
    "            predictors = predictors.multiply(df_train['S1_n'] - df_train['S0_n'] * df_train['on_ret'], axis=0)\n",
    "\n",
    "            regression = LinearRegression(fit_intercept=False).fit(predictors, target)\n",
    "\n",
    "            predicted_target = regression.predict(predictors)\n",
    "            residual = (target - predicted_target)\n",
    "            residual_sum_of_squares = (residual ** 2).sum()\n",
    "            sigma_square_hat = residual_sum_of_squares / (predictors.shape[0] - predictors.shape[1])\n",
    "            var_beta = (np.linalg.inv(predictors.T @ predictors) * sigma_square_hat)\n",
    "            std = [var_beta[i, i] ** 0.5 for i in range(len(var_beta))]\n",
    "\n",
    "            if leverage:\n",
    "                is_leverage = df_train['implvol1'].notna()\n",
    "                df_leverage = df_train.loc[is_leverage]\n",
    "                predictors_leverage = (df_leverage['S1_n'] - df_leverage['S0_n']).values.reshape(-1, 1)\n",
    "                target_leverage = df_leverage['implvol1'] - df_leverage['implvol0']\n",
    "                leverage_regression = LinearRegression(fit_intercept=False).fit(predictors_leverage, target_leverage)\n",
    "                var = (leverage_regression.coef_ * df_leverage['vega_n'] / df_leverage['delta_bs']).mean()\n",
    "                df_leverage.loc[i, str(name)] = var\n",
    "\n",
    "            df_coef.loc[i, str(name)] = regression.coef_\n",
    "            df_fit_std.loc[i, str(name)] = std\n",
    "\n",
    "            df_delta = pd.Series(index=df_test.index)\n",
    "            delta = regression.predict(df_test.loc[:, features])\n",
    "            df_delta.loc[:] = delta\n",
    "            deltas.loc[df_test.index] = df_delta\n",
    "\n",
    "    # Calculate delta based on taret_var\n",
    "    if not taret_var:\n",
    "        delta = deltas\n",
    "        results_dict[setup_name] = delta\n",
    "    else:\n",
    "        delta = deltas + df['delta_bs']\n",
    "        results_dict[setup_name] = delta \n",
    "    return {'df_coef': df_coef, 'df_leverage': df_leverage, 'df_fit_std': df_fit_std}"
   ]
  },
  {
   "cell_type": "markdown",
   "metadata": {},
   "source": [
    "`modify_dataframe` function takes a dataframe, original size, minimum moneyness, and maximum moneyness as input. It removes in-the-money samples and shrinks the moneyness range in the dataframe. It prints information about the sample removal, such as the number of removed samples and the percentage of remaining data.\n",
    "\n",
    "The `modify_dataframe` function shrinks the moneyness range by removing samples that fall outside the specified range.\n",
    "\n",
    "code explanation:\n",
    "\n",
    "1. It first checks whether each sample in the dataframe meets the criteria for being considered in-the-money. For call options, the condition is `df['cp_int'] == 0` and `df['M0'] < 1.001`. For put options, the condition is `df['cp_int'] == 1` and `df['M0'] > 0.999`. The bitwise OR operator (`|`) combines these conditions.\n",
    "\n",
    "2. It calculates the number of samples that meet the in-the-money condition and calculates the percentage of removed samples based on the original size of the dataframe.\n",
    "\n",
    "3. It filters the dataframe to keep only the samples that satisfy the in-the-money condition using the `loc` function.\n",
    "\n",
    "4. Next, it checks whether each sample's moneyness value (`M0`) falls within the specified range (`MIN_MONEYNESS` to `MAX_MONEYNESS`). It uses the bitwise AND operator (`&`) to combine the conditions.\n",
    "\n",
    "5. It calculates the number of samples that fall outside the moneyness range and calculates the corresponding removal percentage.\n",
    "\n",
    "6. It filters the dataframe again to retain only the samples that fall within the desired moneyness range using the `loc` function.\n",
    "\n",
    "7. Finally, it returns the modified dataframe.\n",
    "\n",
    "In summary, the `modify_dataframe` function removes samples that are considered in-the-money or fall outside the specified moneyness range, effectively shrinking the moneyness range of the dataset."
   ]
  },
  {
   "cell_type": "code",
   "execution_count": 3,
   "metadata": {},
   "outputs": [],
   "source": [
    "def modify_dataframe(dataframe, original_size, MIN_MONEYNESS, MAX_MONEYNESS):\n",
    "    \"\"\"\n",
    "    Remove in-the-money samples and shrink the moneyness range in the dataframe.\n",
    "    Print information about sample removal.\n",
    "    \"\"\"\n",
    "\n",
    "    # Remove in-the-money samples\n",
    "    in_the_money = ((dataframe['cp_int'] == 0) & (dataframe['M0'] < 1.001)) | ((dataframe['cp_int'] == 1) & (dataframe['M0'] > 0.999))\n",
    "    removed_count = dataframe.shape[0] - sum(in_the_money)\n",
    "    removal_percentage = (removed_count / dataframe.shape[0]) * 100\n",
    "    remaining_percentage = (sum(in_the_money) / original_size) * 100\n",
    "    print(f\"Removing in-the-money samples: {removed_count} samples ({removal_percentage:.2f}%) removed. \"\n",
    "          f\"{remaining_percentage:.2f}% of data remaining. Current size of data: {sum(in_the_money)}.\")\n",
    "\n",
    "    dataframe = dataframe.loc[in_the_money]\n",
    "\n",
    "    # Shrink moneyness range\n",
    "    within_moneyness_range = (dataframe['M0'] >= MIN_MONEYNESS - 0.001) & (dataframe['M0'] <= MAX_MONEYNESS + 0.001)\n",
    "    removed_count = dataframe.shape[0] - sum(within_moneyness_range)\n",
    "    removal_percentage = (removed_count / dataframe.shape[0]) * 100\n",
    "    remaining_percentage = (sum(within_moneyness_range) / original_size) * 100\n",
    "    print(f\"Shrinking moneyness range: {removed_count} samples ({removal_percentage:.2f}%) removed. \"\n",
    "          f\"{remaining_percentage:.2f}% of data remaining. Current size of data: {sum(within_moneyness_range)}.\")\n",
    "\n",
    "    dataframe = dataframe.loc[within_moneyness_range]\n",
    "    return dataframe"
   ]
  },
  {
   "cell_type": "markdown",
   "metadata": {},
   "source": [
    "The `remove_columns_rename` function is responsible for removing specific columns from a dataframe and renaming certain columns based on provided dictionaries. It removes specific columns from the dataframe based on the provided `whole_dictionary` and renames certain columns using the `renaming_dictionary`. This allows for selective column removal and renaming in the dataframe.\n",
    "\n",
    "\n",
    "Code explanation:\n",
    "\n",
    "1. The function takes four parameters: `dataframe` (the input dataframe), `whole_dictionary` (a dictionary containing column information), `single_key` (a key from `whole_dictionary`), and `future_volume` (an optional parameter indicating whether to consider the future volume column).\n",
    "\n",
    "2. It creates a copy of the `whole_dictionary` called `remove_frequency` to prevent modifying the original dictionary.\n",
    "\n",
    "3. The function removes columns from the dataframe based on the values in `remove_frequency`. It iterates over the items in `remove_frequency` using a for loop.\n",
    "\n",
    "4. For each item, it retrieves the tag (value[1]) and identifies columns in the dataframe that contain this tag. It uses a list comprehension to create a list of columns to be removed.\n",
    "\n",
    "5. It then iterates over the columns to be removed and deletes them from the dataframe using the `del` keyword.\n",
    "\n",
    "6. Next, it creates a dictionary called `renaming_dictionary` to store the renaming mappings for specific columns. The dictionary is populated based on the provided `single_key` and the values in `whole_dictionary`.\n",
    "\n",
    "7. The dictionary maps the original column names to their corresponding new names. For example, if `whole_dictionary[single_key][1]` is equal to 2, it renames columns with the pattern `S2` to `S1` and so on.\n",
    "\n",
    "8. If `future_volume` is `True`, it adds an additional mapping for the volume column.\n",
    "\n",
    "9. Finally, it applies the renaming_dictionary to the dataframe using the `rename` function with the `inplace=True` parameter, effectively renaming the columns.\n"
   ]
  },
  {
   "cell_type": "code",
   "execution_count": 4,
   "metadata": {},
   "outputs": [],
   "source": [
    "def remove_columns_rename(dataframe, whole_dictionary, single_key, future_volume=None):\n",
    "    remove_frequency = whole_dictionary.copy()\n",
    "    remove_frequency.pop(single_key)\n",
    "\n",
    "    for key, value in remove_frequency.items():\n",
    "        tag = value[1]\n",
    "        columns_to_remove = [column for column in dataframe.columns if tag in column]\n",
    "        for col in columns_to_remove:\n",
    "            del dataframe[col]\n",
    "\n",
    "    renaming_dictionary = {\n",
    "        f\"S{whole_dictionary[single_key][1]}\": \"S1\",\n",
    "        f\"V{whole_dictionary[single_key][1]}\": \"V1\",\n",
    "        f\"V{whole_dictionary[single_key][1]}_atm\": \"V1_atm\",\n",
    "        f\"implvol{whole_dictionary[single_key][1]}\": \"implvol1\",\n",
    "        f\"S{whole_dictionary[single_key][1]}_n\": \"S1_n\",\n",
    "        f\"V{whole_dictionary[single_key][1]}_n\": \"V1_n\",\n",
    "        f\"V{whole_dictionary[single_key][1]}_atm_n\": \"V1_atm_n\"\n",
    "    }\n",
    "\n",
    "    if future_volume:\n",
    "        renaming_dictionary[f\"volume{whole_dictionary[single_key][1]}\"] = \"volume1\"\n",
    "\n",
    "    dataframe.rename(columns=renaming_dictionary, inplace=True)\n"
   ]
  },
  {
   "cell_type": "markdown",
   "metadata": {},
   "source": [
    "The `add_custom_features` function takes an input dataframe and adds custom features to it. Here's a breakdown of the code.\n",
    "\n",
    "Code explanation:\n",
    "\n",
    "1. The function starts by creating a copy of the input dataframe using the `copy()` method to ensure that the original dataframe is not modified.\n",
    "\n",
    "2. The first feature, custom feature 1 , is calculated by taking the square root of the `tau0` column and multiplying it by the `implvol0` column.\n",
    "\n",
    "3. The second feature, custom feature 2 , is calculated by taking the square root of the `tau0` column.\n",
    "\n",
    "4. The third feature, custom feature 3 , is calculated by taking the reciprocal of the square root of the `tau0` column.\n",
    "\n",
    "5. The next set of features, custom feature 4, custom feature 5 , and custom feature 6 , are calculated for additional analysis. custom feature 4 is obtained by dividing the `vega_n` column by the product of the `S0_n` column (stock price) and the square root of the `tau0` column. custom feature 5  is the product of the `delta_bs` column and custom feature 4 , while custom feature 6 is obtained by squaring the `delta_bs` column and multiplying it by custom feature 4.\n",
    "\n",
    "6. Finally, the modified dataframe with the added features is returned.\n",
    "\n",
    "This code allows for the creation of custom features based on various calculations involving existing columns in the dataframe."
   ]
  },
  {
   "cell_type": "code",
   "execution_count": 5,
   "metadata": {},
   "outputs": [],
   "source": [
    "def add_custom_features(input_df):\n",
    "    \"\"\"\n",
    "    Add custom features to the input dataframe.\n",
    "    \"\"\"\n",
    "    # Create a copy of the dataframe\n",
    "    df = input_df.copy()\n",
    "\n",
    "    # Calculate the feature: tau0_implvol0\n",
    "    df['tau0_implvol0'] = np.sqrt(df['tau0']) * df['implvol0']\n",
    "\n",
    "    # Calculate the feature: sqrt_tau0\n",
    "    df['sqrt_tau0'] = np.sqrt(df['tau0'])\n",
    "\n",
    "    # Calculate the feature: 1_over_sqrt_tau\n",
    "    df['1_over_sqrt_tau'] = 1 / np.sqrt(df['tau0'])\n",
    "\n",
    "    # Calculate features for additional analysis\n",
    "    df['vega_s'] = df['vega_n'] / (df['S0_n'] * np.sqrt(df['tau0']))\n",
    "    df['delta_vega_s'] = df['delta_bs'] * df['vega_s']\n",
    "    df['delta2_vega_s'] = (df['delta_bs']**2) * df['vega_s']\n",
    "    return df"
   ]
  },
  {
   "cell_type": "markdown",
   "metadata": {},
   "source": [
    "Code explanation:\n",
    "\n",
    "The `assign_data_tag` function is used to assign data tags to a specific period in the dataframe. It takes the following parameters:\n",
    "- `dataframe`: The input dataframe to which the data tags will be assigned.\n",
    "- `data_tag`: The tag indicating whether the data belongs to the train, validation, or test set.\n",
    "- `data_period`: The period for which the data tags will be assigned.\n",
    "- `data_offset`: The business offset used to determine the end of the assigned period.\n",
    "- `start_date`: The start date of the assigned period.\n",
    "- `end_date`: The end date of the assigned period.\n",
    "\n",
    "The function first checks if the `data_offset` is a `pd.Timedelta` object. If it is, and the offset is less than or equal to 2 hours, the `data_end` is set to the `end_date`. Otherwise, the `data_end` is calculated by subtracting the `data_offset` from the `end_date`.\n",
    "\n",
    "Next, the function filters the dataframe based on the specified date range using a boolean mask. The mask is created by checking if the date is within the start and end date range. The filtered rows in the dataframe are then assigned the corresponding data tag using the `loc` indexer and the `f'period{data_period}'` column.\n",
    "\n",
    "Finally, the modified dataframe is returned with the assigned data tags."
   ]
  },
  {
   "cell_type": "code",
   "execution_count": 6,
   "metadata": {},
   "outputs": [],
   "source": [
    "def assign_data_tag(dataframe, data_tag=None, data_period=None, data_offset=None, start_date=None, end_date=None):\n",
    "    \"\"\"\n",
    "    Assign data tags to a specified period in the dataframe.\n",
    "    The data_tag indicates whether the data belongs to the train, validation, or test set.\n",
    "    The assigned data_period is from the start_date to (end_date - business_offset).\n",
    "    \"\"\"\n",
    "    # Check if the offset is a Timedelta object\n",
    "    if isinstance(data_offset, pd.Timedelta):\n",
    "        if data_offset <= pd.Timedelta('2 hours'):\n",
    "            data_end = end_date\n",
    "    else:\n",
    "        data_end = end_date - data_offset\n",
    "    # Filter the dataframe based on the specified date range\n",
    "    date_range = (dataframe['date'] >= start_date) & (dataframe['date'] <= data_end)\n",
    "    dataframe.loc[date_range, f'period{data_period}'] = data_tag\n",
    "    return dataframe"
   ]
  },
  {
   "cell_type": "markdown",
   "metadata": {},
   "source": [
    "### Loading the Data\n",
    "\n",
    "In this part we implement a code which  loads and cleans the training and validation data from a CSV file, applies data modifications and feature engineering operations, and prepares the `df_train` DataFrame for further processing in subsequent steps.\n",
    "\n",
    "Implementation steps:\n",
    "\n",
    "- Read the CSV file named 'train_validation_data.csv' located in the specified directory into a Pandas DataFrame (`df`), while specifying the column to be used as the index (`index_col=0`) and parsing the 'date' column as datetime objects (`parse_dates=['date']`).\n",
    "- Store the original size of the DataFrame in the variable `original_size`.\n",
    "- Remove unnecessary columns and rename certain columns in the DataFrame using the `remove_columns_rename` function, passing the DataFrame (`df`), a dictionary containing column removal frequencies (`OFFSET_DICT`), and the desired frequency (`FREQ`).\n",
    "- Create a new column in the DataFrame named 'on_ret', which calculates the exponential of the product of the 'short_rate' column and a constant time interval (`DT`).\n",
    "- Apply tagging to the DataFrame using the `assign_data_tag` function. This assigns a tag of 0 for the first period and a tag of 1 for the second period, based on specified offset values and date ranges.\n",
    "- Print information about loading and cleaning the training and validation data, including the original size of the DataFrame before modifications.\n",
    "- Modify the DataFrame by removing in-the-money samples and shrinking the moneyness range using the `modify_dataframe` function, passing the DataFrame (`df`), the original size  and specified moneyness range limits.\n",
    "- Filter out rows where the 'V1' column is not NaN, and assign the resulting DataFrame to `df_train`.\n",
    "- Perform additional custom feature engineering on the `df_train` DataFrame using the `add_custom_features` function."
   ]
  },
  {
   "cell_type": "code",
   "execution_count": 7,
   "metadata": {},
   "outputs": [
    {
     "name": "stdout",
     "output_type": "stream",
     "text": [
      "Load and clean the training and validation data.\n",
      "Original data size: 579717\n",
      "Removing in-the-money samples: 293046 samples (50.55%) removed. 49.45% of data remaining. Current size of data: 286671.\n",
      "Shrinking moneyness range: 0 samples (0.00%) removed. 49.45% of data remaining. Current size of data: 286671.\n"
     ]
    }
   ],
   "source": [
    "OFFSET_DICT = {\n",
    "    '1D': [BDay(1), '_1D'],\n",
    "    '2D': [BDay(2), '_2D']\n",
    "}\n",
    "DATE_BREAK = pd.Timestamp('2018/07/01') + pd.Timedelta('360D')\n",
    "FREQ = '1D'\n",
    "DT = 1 / 253.\n",
    "MIN_MONEYNESS, MAX_MONEYNESS = 0.8, 1.5\n",
    "seed = 42\n",
    "UNDERLYINGPARAS = {\n",
    "        's0': 2000.,\n",
    "        'volatility': 0.2,\n",
    "        'mu': 0.1,\n",
    "        'start_date': pd.Timestamp('2018/07/01'),\n",
    "        'end_date': pd.Timestamp('2018/07/01') + pd.Timedelta('450D')}\n",
    "\n",
    "df = pd.read_csv('C:/Users/fatem/Desktop/hedging_project/data/train_validation_data.csv', index_col=0, parse_dates=['date'])\n",
    "original_size = df.shape[0]\n",
    "\n",
    "remove_columns_rename(df, OFFSET_DICT, FREQ)\n",
    "df['on_ret'] = np.exp(df['short_rate'] * DT)\n",
    "\n",
    "assign_data_tag(df, 0, 0, OFFSET_DICT[FREQ][0], UNDERLYINGPARAS['start_date'], DATE_BREAK)\n",
    "assign_data_tag(df, 1, 0, OFFSET_DICT[FREQ][0], DATE_BREAK, UNDERLYINGPARAS['end_date'])\n",
    "\n",
    "print('Load and clean the training and validation data.')\n",
    "print('Original data size:', df.shape[0])\n",
    "\n",
    "df = modify_dataframe(df, original_size, MIN_MONEYNESS, MAX_MONEYNESS)\n",
    "bl = df['V1'].notna()\n",
    "df_train = df.loc[bl]\n",
    "df_train = add_custom_features(df_train)\n",
    "original_features =['vega_n', 'gamma_n', 'vanna_n', 'vega_s', 'delta_vega_s', 'delta2_vega_s']\n",
    "\n",
    "def standardize_features(df, feature_list):\n",
    "    \"\"\"\n",
    "    Standardize the selected features in the given DataFrame using the StandardScaler.\n",
    "    :param df: DataFrame containing the data to be standardized.\n",
    "    :param feature_list: List of feature names to be standardized.\n",
    "    :return: DataFrame with standardized features.\n",
    "    \"\"\"\n",
    "    # Copy the DataFrame to avoid modifying the original DataFrame\n",
    "    standardized_df = df.copy()\n",
    "\n",
    "    # Initialize the StandardScaler\n",
    "    scaler = StandardScaler()\n",
    "\n",
    "    # Fit and transform the selected features\n",
    "    standardized_df[feature_list] = scaler.fit_transform(df[feature_list])\n",
    "\n",
    "    return standardized_df\n",
    "df_train = standardize_features(df_train, original_features)"
   ]
  },
  {
   "cell_type": "markdown",
   "metadata": {},
   "source": [
    "The next cell is part of a data preprocessing step for a Monte Carlo simulation dataset. The main purpose is to prepare the test set (`df_test`) for evaluation and analysis. \n",
    "\n",
    "1. `df_test = pd.read_csv(PATH, index_col=0, parse_dates=['date'])`: Reads the Monte Carlo data from the specified file (`test_data.csv`) into a DataFrame `df_test`. The 'date' column is parsed as datetime objects.\n",
    "\n",
    "2. `remove_columns_rename(df_test, OFFSET_DICT, FREQ)`: Calls a function `remove_columns_rename` to remove irrelevant columns and rename the remaining columns in the `df_test` DataFrame based on some configuration dictionaries (`OFFSET_DICT` and `FREQ`).\n",
    "\n",
    "3. `df_test['on_ret'] = np.exp(df_test['short_rate'] * DT)`: Calculates a new feature 'on_ret' by taking the exponential of the product of 'short_rate' and a parameter `DT`.\n",
    "\n",
    "4. `assign_data_tag(df_test, 2, 0, OFFSET_DICT[FREQ][0], df_test['date'].min(), df_test['date'].max())`: Calls a function `assign_data_tag` to assign data tags to the test set based on some parameters and the 'date' column.\n",
    "\n",
    "5. `original_size = df_test.shape[0]`: Records the original size (number of rows) of the test set.\n",
    "\n",
    "6. `bl = df_test['V1'].notna()`: Creates a boolean mask `bl` that checks if the 'V1' column is not NaN (not missing).\n",
    "\n",
    "7. `df_test = df_test.loc[bl]`: Removes rows from `df_test` where the 'V1' column is missing.\n",
    "\n",
    "8. Prints information about the removal and the remaining samples.\n",
    "\n",
    "9. `df_test = add_custom_features(df_test)`: Calls a function `add_custom_features` to add custom features to the test set `df_test`.\n",
    "\n",
    "So we load a Monte Carlo dataset, preprocesses it by removing irrelevant rows, calculates new features and assigns data tags."
   ]
  },
  {
   "cell_type": "code",
   "execution_count": 8,
   "metadata": {},
   "outputs": [
    {
     "name": "stdout",
     "output_type": "stream",
     "text": [
      "We remove samples where S1 is not available. 2582 samples (1.89%) are removed. 98.11% of data is left. Current size of data: 133861.\n"
     ]
    }
   ],
   "source": [
    "# Import Monte Carlo Set and Preprocessing\n",
    "\n",
    "# Read the Monte Carlo data for the current set\n",
    "df_test = pd.read_csv('C:/Users/fatem/Desktop/hedging_project/data/test_data.csv', index_col=0, parse_dates=['date'])\n",
    "\n",
    "# Remove irrelevant columns and rename remaining columns\n",
    "remove_columns_rename(df_test, OFFSET_DICT, FREQ)\n",
    "\n",
    "# Calculate the 'on_ret' feature\n",
    "df_test['on_ret'] = np.exp(df_test['short_rate'] * DT)\n",
    "\n",
    "# Assign data tags for the test set\n",
    "assign_data_tag(df_test, 2, 0, OFFSET_DICT[FREQ][0], df_test['date'].min(), df_test['date'].max())\n",
    "\n",
    "# Record the original size of the test set\n",
    "original_size = df_test.shape[0]\n",
    "\n",
    "# Modify the test set by removing rows where S1 is not available\n",
    "bl = df_test['V1'].notna()\n",
    "df_test = df_test.loc[bl]\n",
    "\n",
    "# Print information about sample removal\n",
    "removal_count = original_size - sum(bl)\n",
    "removal_percentage = (removal_count / original_size) * 100\n",
    "remaining_percentage = (sum(bl) / original_size) * 100\n",
    "print(f'We remove samples where S1 is not available. {removal_count} samples ({removal_percentage:.2f}%) are removed. '\n",
    "      f'{remaining_percentage:.2f}% of data is left. Current size of data: {sum(bl)}.')\n",
    "\n",
    "# Add custom features to the test set\n",
    "df_test = add_custom_features(df_test)\n",
    "df_test = standardize_features(df_test, original_features)"
   ]
  },
  {
   "cell_type": "markdown",
   "metadata": {},
   "source": [
    "### Exploring Feature Sets for Linear Regression Hedge Model:\n",
    "\n",
    "In this section, we have implemented the necessary functions for performing linear regression to hedge our options. We have prepared the data by cleaning and modifying the dataframe, creating relevant features, and tagging the data for training and validation. The dataframe has been processed to remove unnecessary columns and rename relevant ones. Additionally, we have saved the cleaned data for further analysis.\n",
    "\n",
    "Now, we are ready to proceed with the linear regression on different feature setups. We will train our model using various sets of features and evaluate its performance. This will allow us to rank and compare the performance of the model across different feature combinations and select the optimal set of features for our hedge model."
   ]
  },
  {
   "cell_type": "code",
   "execution_count": 9,
   "metadata": {},
   "outputs": [],
   "source": [
    "# Define the results' dictionary\n",
    "results_dict = {}"
   ]
  },
  {
   "cell_type": "markdown",
   "metadata": {},
   "source": [
    "#### No hedge\n",
    "\n",
    "The purpose of this code is to evaluate the performance of the \"No Hedge\" strategy, where the delta values are set to zero for all trades.\n",
    "\n",
    "Code explanation:\n",
    "\n",
    "  - Create a temporary dataframe (`df_tmp`) by appending the training dataset (`df_train`) and the test dataset (`df_test`).\n",
    "  - Create a zero array (`zero`) with the same length as the temporary dataframe.\n",
    "  - Convert the zero array into a Pandas Series object with index matching the temporary dataframe.\n",
    "  - The delta values are stored in `results_dict` dictionary."
   ]
  },
  {
   "cell_type": "code",
   "execution_count": 10,
   "metadata": {},
   "outputs": [],
   "source": [
    "# No Hedge\n",
    "\n",
    "df_tmp = df_train.append(df_test)  \n",
    "# Create a zero array for delta values\n",
    "zero = np.array([0.] * len(df_tmp))\n",
    "zero = pd.Series(zero, index=df_tmp.index)\n",
    "results_dict['No_Hedge'] = zero"
   ]
  },
  {
   "cell_type": "markdown",
   "metadata": {},
   "source": [
    "#### BS\n",
    "\n",
    "The purpose of this part is to evaluate the performance of the \"BS Benchmark\" strategy, where the delta values are determined based on the Black-Scholes model. \n",
    "\n",
    "Code explanation:\n",
    "  - Create a temporary dataframe (`df_tmp`) by appending the training dataset (`df_train`) and the test dataset (`df_test`).\n",
    "  - The delta values are stored in `results_dict` dictionary."
   ]
  },
  {
   "cell_type": "code",
   "execution_count": 11,
   "metadata": {},
   "outputs": [],
   "source": [
    "# BS Benchmark\n",
    "df_tmp = df_train.append(df_test)\n",
    "results_dict['BS'] = df_tmp['delta_bs']"
   ]
  },
  {
   "cell_type": "markdown",
   "metadata": {},
   "source": [
    "#### Delta-only\n",
    "\n",
    "The purpose of this part is to evaluate the performance of the \"Delta Only\" strategy, where only the delta value is used as a predictor for hedging. The linear regression is performed for each test set, and the resulting regression coefficients and fit standard deviations are printed.\n",
    "Code explanation:\n",
    "\n",
    "  - Create a temporary dataframe (`df_tmp`) by appending the training dataset (`df_train`) and the test dataset (`df_test`).\n",
    "  - Set up the keyword arguments (`kwargs`) for the `run_linear_regression` function, specifying the features, maximum period, dataframe, delta coefficient setting, and leverage setting.\n",
    "  - Run the linear regression using the `run_linear_regression` function with the specified keyword arguments and store the resulting regression results (`res`).\n",
    "  - The delta values are stored in `results_dict` dictionary."
   ]
  },
  {
   "cell_type": "code",
   "execution_count": 12,
   "metadata": {},
   "outputs": [
    {
     "name": "stdout",
     "output_type": "stream",
     "text": [
      "          0         1\n",
      "   delta_bs  delta_bs\n",
      "0  0.018715 -0.008668\n"
     ]
    }
   ],
   "source": [
    "# Delta Only\n",
    "df_tmp = df_train.append(df_test)\n",
    "# Set up the keyword arguments for the run_linear_regression function\n",
    "kwargs = {\n",
    "    'features': ['delta_bs'],\n",
    "    'max_period': 0,\n",
    "    'setup_name': 'Delta_only',\n",
    "    'df': df_tmp,\n",
    "    'taret_var': True,\n",
    "    'leverage': True\n",
    "    }\n",
    "# Run linear regression \n",
    "res = run_linear_regression(**kwargs) \n",
    "# Print the results\n",
    "print(res['df_coef'])"
   ]
  },
  {
   "cell_type": "markdown",
   "metadata": {},
   "source": [
    "#### Delta-Vega\n",
    "\n",
    "The purpose of this part is to evaluate the performance of the \"Delta Vega\" strategy, where both the delta and vega values are used as predictors for hedging. The linear regression is performed for each test set, and the resulting regression coefficients and fit standard deviations are printed.\n",
    "\n",
    "Code explanation:\n",
    "  - Create a temporary dataframe (`df_tmp`) by appending the training dataset (`df_train`) and the test dataset (`df_test`).\n",
    "  - Set up the keyword arguments (`kwargs`) for the `run_linear_regression` function, specifying the features, maximum period, dataframe.\n",
    "  - Run the linear regression using the `run_linear_regression` function with the specified keyword arguments and store the resulting regression results (`res`).\n",
    "  - The delta values are stored in `results_dict` dictionary."
   ]
  },
  {
   "cell_type": "code",
   "execution_count": 13,
   "metadata": {},
   "outputs": [
    {
     "name": "stdout",
     "output_type": "stream",
     "text": [
      "          0                   1          \n",
      "   delta_bs    vega_n  delta_bs    vega_n\n",
      "0  0.026721 -0.005973 -0.009803 -0.001172\n"
     ]
    }
   ],
   "source": [
    "# Delta Vega\n",
    "\n",
    "df_tmp = df_train.append(df_test)\n",
    "# Set up the keyword arguments for the run_linear_regression function\n",
    "kwargs = {\n",
    "    'features': ['delta_bs', 'vega_n'],\n",
    "    'max_period': 0,\n",
    "    'setup_name': 'Delta_Vega',\n",
    "    'df': df_tmp,\n",
    "    'taret_var': True,\n",
    "}\n",
    "# Run linear regression\n",
    "res = run_linear_regression(**kwargs)\n",
    "\n",
    "print(res['df_coef'])"
   ]
  },
  {
   "cell_type": "markdown",
   "metadata": {},
   "source": [
    "#### Delta-Gamma\n",
    "\n",
    "The purpose of this part is to evaluate the performance of the \"Delta Gamma\" strategy, where both the delta and gamma values are used as predictors for hedging. The linear regression is performed for each test set, and the resulting regression coefficients and fit standard deviations are printed.\n",
    "Code explanation:\n",
    "\n",
    "  - Create a temporary dataframe (`df_tmp`) by appending the training dataset (`df_train`) and the test dataset (`df_test`).\n",
    "  - Set up the keyword arguments (`kwargs`) for the `run_linear_regression` function, specifying the features, maximum period, dataframe.\n",
    "  - Run the linear regression using the `run_linear_regression` function with the specified keyword arguments and store the resulting regression results (`res`).\n",
    "  - The delta values are stored in `results_dict` dictionary."
   ]
  },
  {
   "cell_type": "code",
   "execution_count": 14,
   "metadata": {
    "scrolled": true
   },
   "outputs": [
    {
     "name": "stdout",
     "output_type": "stream",
     "text": [
      "          0                  1          \n",
      "   delta_bs  gamma_n  delta_bs   gamma_n\n",
      "0  0.014948  0.00526 -0.008003  0.002232\n"
     ]
    }
   ],
   "source": [
    "# Delta Gamma\n",
    "df_tmp = df_train.append(df_test)\n",
    "# Set up the keyword arguments for the run_linear_regression function\n",
    "kwargs = {\n",
    "    'features': ['delta_bs', 'gamma_n'],\n",
    "    'setup_name': 'Delta_Gamma',\n",
    "    'max_period': 0,\n",
    "    'df': df_tmp,\n",
    "    'taret_var': True,\n",
    "}\n",
    "# Run linear regression\n",
    "res = run_linear_regression(**kwargs)\n",
    "print(res['df_coef'])"
   ]
  },
  {
   "cell_type": "markdown",
   "metadata": {},
   "source": [
    "#### Delta-Vanna\n",
    "\n",
    "The purpose of this part is to evaluate the performance of the \"Delta Vanna\" strategy, where both the delta and vanna values are used as predictors for hedging. The linear regression is performed for each test set, and the resulting regression coefficients and fit standard deviations are printed.\n",
    "\n",
    "Code explanation:\n",
    "\n",
    "  - Create a temporary dataframe (`df_tmp`) by appending the training dataset (`df_train`) and the test dataset (`df_test`).\n",
    "  - Set up the keyword arguments (`kwargs`) for the `run_linear_regression` function, specifying the features, maximum period,,dataframe.\n",
    "  - Run the linear regression using the `run_linear_regression` function with the specified keyword arguments and store the resulting regression results (`res`).\n",
    "  - The delta values are stored in `results_dict` dictionary."
   ]
  },
  {
   "cell_type": "code",
   "execution_count": 15,
   "metadata": {},
   "outputs": [
    {
     "name": "stdout",
     "output_type": "stream",
     "text": [
      "          0                   1          \n",
      "   delta_bs   vanna_n  delta_bs   vanna_n\n",
      "0 -0.006196  0.008258 -0.008322 -0.000485\n"
     ]
    }
   ],
   "source": [
    "# Delta Vanna\n",
    "\n",
    "df_tmp = df_train.append(df_test)\n",
    "# Set up the keyword arguments for the run_linear_regression function\n",
    "kwargs = {\n",
    "    'features': ['delta_bs', 'vanna_n'],\n",
    "    'setup_name': 'Delta_Vanna',\n",
    "    'max_period': 0,\n",
    "    'df': df_tmp,\n",
    "    'taret_var': True,\n",
    "}\n",
    "# Run linear regression\n",
    "res = run_linear_regression(**kwargs) \n",
    "print(res['df_coef'])"
   ]
  },
  {
   "cell_type": "markdown",
   "metadata": {},
   "source": [
    "####  Delta-Gamma-Vanna\n",
    "\n",
    "The purpose of this part is to evaluate the performance of the \"Delta-Gamma-Vanna\" strategy, where delta, gamma, and vanna values are used as predictors for hedging. The linear regression is performed for each test set, and the resulting regression coefficients and fit standard deviations are printed.\n",
    "\n",
    "Code explanation:\n",
    "\n",
    "  - Create a temporary dataframe (`df_tmp`) by appending the training dataset (`df_train`) and the test dataset (`df_test`).\n",
    "  - Set up the keyword arguments (`kwargs`) for the `run_linear_regression` function, specifying the features, maximum period, dataframe.\n",
    "  - Run the linear regression using the `run_linear_regression` function with the specified keyword arguments and store the resulting regression results (`res`).\n",
    "  - The delta values are stored in `results_dict` dictionary."
   ]
  },
  {
   "cell_type": "code",
   "execution_count": 16,
   "metadata": {},
   "outputs": [
    {
     "name": "stdout",
     "output_type": "stream",
     "text": [
      "          0                             1                    \n",
      "   delta_bs   gamma_n   vanna_n  delta_bs   gamma_n   vanna_n\n",
      "0 -0.005259  0.004145  0.006963 -0.007421  0.002308 -0.000786\n"
     ]
    }
   ],
   "source": [
    "# Delta-Gamma-Vanna\n",
    "\n",
    "df_tmp = df_train.append(df_test) \n",
    "# Set up the keyword arguments for the run_linear_regression function\n",
    "kwargs = {\n",
    "    'features': ['delta_bs', 'gamma_n', 'vanna_n'],\n",
    "    'setup_name': 'Delta_Gamma_Vanna',\n",
    "    'max_period': 0,\n",
    "    'df': df_tmp,\n",
    "    'taret_var': True,\n",
    "}\n",
    "# Run linear regression\n",
    "res = run_linear_regression(**kwargs)\n",
    "\n",
    "print(res['df_coef'])"
   ]
  },
  {
   "cell_type": "markdown",
   "metadata": {},
   "source": [
    "#### Delta-Vega-Gamma\n",
    "\n",
    "The purpose of this part is to evaluate the performance of the \"Delta-Vega-Gamma\" strategy, where delta, vega, and gamma values are used as predictors for hedging. The linear regression is performed for each test set, and the resulting regression coefficients and fit standard deviations are printed.\n",
    "\n",
    "Code explanation:\n",
    "\n",
    "  - Create a temporary dataframe (`df_tmp`) by appending the training dataset (`df_train`) and the test dataset (`df_test`).\n",
    "  - Set up the keyword arguments (`kwargs`) for the `run_linear_regression` function, specifying the features, maximum period, dataframe.\n",
    "  - Run the linear regression using the `run_linear_regression` function with the specified keyword arguments and store the resulting regression results (`res`).\n",
    "  - The delta values are stored in `results_dict` dictionary."
   ]
  },
  {
   "cell_type": "code",
   "execution_count": 17,
   "metadata": {},
   "outputs": [
    {
     "name": "stdout",
     "output_type": "stream",
     "text": [
      "          0                             1                   \n",
      "   delta_bs    vega_n   gamma_n  delta_bs    vega_n  gamma_n\n",
      "0  0.016179 -0.000723  0.004893 -0.009241 -0.001305  0.00232\n"
     ]
    }
   ],
   "source": [
    "# Delta-Vega-Gamma\n",
    "\n",
    "df_tmp = df_train.append(df_test)\n",
    "# Set up the keyword arguments for the run_linear_regression function\n",
    "kwargs = {\n",
    "    'features': ['delta_bs', 'vega_n', 'gamma_n'],\n",
    "    'setup_name': 'Delta_Vega_Gamma',\n",
    "    'df': df_tmp,\n",
    "    'max_period': 0,\n",
    "    'taret_var': True,\n",
    "}\n",
    "    \n",
    "# Run linear regression\n",
    "res = run_linear_regression(**kwargs)\n",
    "print(res['df_coef'])"
   ]
  },
  {
   "cell_type": "markdown",
   "metadata": {},
   "source": [
    "#### Delta-Vega-Vanna\n",
    "\n",
    "The purpose of this part is to evaluate the performance of the \"Delta-Vega-Vanna\" strategy, where delta, vega, and vanna values are used as predictors for hedging. The linear regression is performed for each test set, and the resulting regression coefficients and fit standard deviations are printed.\n",
    "\n",
    "Code explanation:\n",
    "\n",
    "  - Create a temporary dataframe (`df_tmp`) by appending the training dataset (`df_train`) and the test dataset (`df_test`).\n",
    "  - Set up the keyword arguments (`kwargs`) for the `run_linear_regression` function, specifying the features, maximum period, dataframe.\n",
    "  - Run the linear regression using the `run_linear_regression` function with the specified keyword arguments and store the resulting regression results (`res`).\n",
    "  - The delta values are stored in `results_dict` dictionary."
   ]
  },
  {
   "cell_type": "code",
   "execution_count": 18,
   "metadata": {},
   "outputs": [
    {
     "name": "stdout",
     "output_type": "stream",
     "text": [
      "          0                             1                    \n",
      "   delta_bs    vega_n   vanna_n  delta_bs    vega_n   vanna_n\n",
      "0  0.001346 -0.003014  0.007097 -0.010361 -0.001387  0.000489\n"
     ]
    }
   ],
   "source": [
    "# Delta-Vega-Vanna\n",
    "\n",
    "df_tmp = df_train.append(df_test)\n",
    "# Set up the keyword arguments for the run_linear_regression function\n",
    "kwargs = {\n",
    "    'features': ['delta_bs', 'vega_n', 'vanna_n'],\n",
    "    'setup_name': 'Delta_Vega_Vanna',\n",
    "    'df': df_tmp,\n",
    "    'max_period': 0,\n",
    "    'taret_var': True,\n",
    "}\n",
    "# Run linear regression\n",
    "res = run_linear_regression(**kwargs)\n",
    "print(res['df_coef'])"
   ]
  },
  {
   "cell_type": "markdown",
   "metadata": {},
   "source": [
    "#### Delta-Vega-Gamma-Vanna\n",
    "\n",
    "The purpose of this part is to evaluate the performance of the \"Delta-Vega-Gamma-Vanna\" strategy, where delta, vega, gamma, and vanna values are used as predictors for hedging. The linear regression is performed for each test set, and the resulting regression coefficients and fit standard deviations are printed.\n",
    "\n",
    "Code explanation:\n",
    "\n",
    "  - Create a temporary dataframe (`df_tmp`) by appending the training dataset (`df_train`) and the test dataset (`df_test`).\n",
    "  - Set up the keyword arguments (`kwargs`) for the `run_linear_regression` function, specifying the features, maximum period.\n",
    "  - Run the linear regression using the `run_linear_regression` function with the specified keyword arguments and store the resulting regression results (`res`).\n",
    "  - The delta values are stored in `results_dict` dictionary."
   ]
  },
  {
   "cell_type": "code",
   "execution_count": 19,
   "metadata": {},
   "outputs": [
    {
     "name": "stdout",
     "output_type": "stream",
     "text": [
      "          0                                       1                      \\\n",
      "   delta_bs    vega_n   gamma_n   vanna_n  delta_bs    vega_n   gamma_n   \n",
      "0 -0.013602  0.003482  0.005782  0.007793 -0.009458 -0.001386  0.002307   \n",
      "\n",
      "             \n",
      "    vanna_n  \n",
      "0  0.000188  \n"
     ]
    }
   ],
   "source": [
    "# Delta-Vega-Gamma-Vanna\n",
    "\n",
    "df_tmp = df_train.append(df_test)\n",
    "# Set up the keyword arguments for the run_linear_regression function\n",
    "kwargs = {\n",
    "    'features': ['delta_bs', 'vega_n', 'gamma_n', 'vanna_n'],\n",
    "    'setup_name': 'Delta_Vega_Gamma_Vanna',\n",
    "    'df': df_tmp,\n",
    "    'max_period': 0,\n",
    "    'taret_var': True,\n",
    "}\n",
    "# Run linear regression\n",
    "res = run_linear_regression(**kwargs)\n",
    "print(res['df_coef'])"
   ]
  },
  {
   "cell_type": "markdown",
   "metadata": {},
   "source": [
    "#### Vanna-only\n",
    "\n",
    "The purpose of this part is to evaluate the performance of the \"Vanna only\" strategy, where vanna values are used as the sole predictor for hedging. The linear regression is performed for each test set, and the resulting regression coefficients and fit standard deviations are printed.\n",
    "\n",
    "Code explanation:\n",
    "\n",
    "  - Create a temporary dataframe (`df_tmp`) by appending the training dataset (`df_train`) and the test dataset (`df_test`).\n",
    "  - Set up the keyword arguments (`kwargs`) for the `run_linear_regression` function, specifying the features, maximum period, dataframe.\n",
    "  - Run the linear regression using the `run_linear_regression` function with the specified keyword arguments and store the resulting regression results (`res`)."
   ]
  },
  {
   "cell_type": "code",
   "execution_count": 20,
   "metadata": {},
   "outputs": [
    {
     "name": "stdout",
     "output_type": "stream",
     "text": [
      "          0         1\n",
      "    vanna_n   vanna_n\n",
      "0  0.006781 -0.001282\n"
     ]
    }
   ],
   "source": [
    "# Vanna only\n",
    "\n",
    "df_tmp = df_train.append(df_test)\n",
    "# Set up the keyword arguments for the run_linear_regression function\n",
    "kwargs = {\n",
    "    'features': ['vanna_n'],\n",
    "    'setup_name': 'Vanna_only',\n",
    "    'df': df_tmp,\n",
    "    'max_period': 0,\n",
    "    'taret_var': True,\n",
    "    'leverage': True\n",
    "}\n",
    "# Run linear regression\n",
    "res = run_linear_regression(**kwargs) \n",
    "print(res['df_coef'])"
   ]
  },
  {
   "cell_type": "markdown",
   "metadata": {},
   "source": [
    "#### Vega-only\n",
    "\n",
    "The purpose of this part is to evaluate the performance of the \"Vega only\" strategy, where vega values are used as the sole predictor for hedging. The linear regression is performed for each test set, and the resulting regression coefficients and fit standard deviations are printed.\n",
    "\n",
    "Code explanation:\n",
    "\n",
    "  - Create a temporary dataframe (`df_tmp`) by appending the training dataset (`df_train`) and the test dataset (`df_test`).\n",
    "  - Set up the keyword arguments (`kwargs`) for the `run_linear_regression` function, specifying the features, maximum period, dataframe.\n",
    "  - Run the linear regression using the `run_linear_regression` function with the specified keyword arguments and store the resulting regression results (`res`)."
   ]
  },
  {
   "cell_type": "code",
   "execution_count": 21,
   "metadata": {},
   "outputs": [
    {
     "name": "stdout",
     "output_type": "stream",
     "text": [
      "          0         1\n",
      "     vega_n    vega_n\n",
      "0  0.001077 -0.000382\n"
     ]
    }
   ],
   "source": [
    "# Vega only \n",
    "\n",
    "df_tmp = df_train.append(df_test)\n",
    "# Set up the keyword arguments for the run_linear_regression function\n",
    "kwargs = {\n",
    "    'features': ['vega_n'],\n",
    "    'setup_name': 'Vega_only',\n",
    "    'df': df_tmp,\n",
    "    'max_period': 0,\n",
    "    'taret_var': True,\n",
    "    'leverage': True\n",
    "}\n",
    "# Run linear regression\n",
    "res = run_linear_regression(**kwargs) \n",
    "print(res['df_coef'])"
   ]
  },
  {
   "cell_type": "markdown",
   "metadata": {},
   "source": [
    "#### Gamma-only\n",
    "\n",
    "The purpose of this part is to evaluate the performance of the \"Gamma only\" strategy, where gamma values are used as the sole predictor for hedging. The linear regression is performed for each test set, and the resulting regression coefficients and fit standard deviations are printed.\n",
    "\n",
    "Code explanation:\n",
    "\n",
    "  - Create a temporary dataframe (`df_tmp`) by appending the training dataset (`df_train`) and the test dataset (`df_test`).\n",
    "  - Set up the keyword arguments (`kwargs`) for the `run_linear_regression` function, specifying the features, maximum period, dataframe.\n",
    "  - Run the linear regression using the `run_linear_regression` function with the specified keyword arguments and store the resulting regression results (`res`).\n",
    "  - The delta values are stored in `results_dict` dictionary."
   ]
  },
  {
   "cell_type": "code",
   "execution_count": 22,
   "metadata": {},
   "outputs": [
    {
     "name": "stdout",
     "output_type": "stream",
     "text": [
      "          0         1\n",
      "    gamma_n   gamma_n\n",
      "0  0.006698  0.002483\n"
     ]
    }
   ],
   "source": [
    "# Gamma only \n",
    "\n",
    "df_tmp = df_train.append(df_test)\n",
    "# Set up the keyword arguments for the run_linear_regression function\n",
    "kwargs = {\n",
    "    'features': ['gamma_n'],\n",
    "    'setup_name': 'Gamma_only',\n",
    "    'df': df_tmp,\n",
    "    'max_period': 0,\n",
    "    'taret_var': True,\n",
    "    'leverage': True\n",
    "}\n",
    "# Run linear regression\n",
    "res = run_linear_regression(**kwargs)\n",
    "print(res['df_coef'])"
   ]
  },
  {
   "cell_type": "markdown",
   "metadata": {},
   "source": [
    "#### Hull White model\n",
    "\n",
    "The purpose of this part is to evaluate the performance of the \"Hull-White\" strategy, where features related to Hull-White regression are used as predictors for hedging. The linear regression is performed for each test set, and the resulting regression coefficients and fit standard deviations are printed.\n",
    "\n",
    "Code explanation:\n",
    "  - Create a temporary dataframe (`df_tmp`) by appending the training dataset (`df_train`) and the test dataset (`df_test`).\n",
    "  - Set up the keyword arguments (`kwargs`) for the `run_linear_regression` function, specifying the features, maximum period, dataframe.\n",
    "  - Run the linear regression using the `run_linear_regression` function with the specified keyword arguments and store the resulting regression results (`res`).\n",
    "  - The delta values are stored in `results_dict` dictionary."
   ]
  },
  {
   "cell_type": "code",
   "execution_count": 23,
   "metadata": {},
   "outputs": [
    {
     "name": "stdout",
     "output_type": "stream",
     "text": [
      "          0                                    1                           \n",
      "     vega_s delta_vega_s delta2_vega_s    vega_s delta_vega_s delta2_vega_s\n",
      "0 -0.003199     0.013996     -0.010568 -0.000181    -0.003915     -0.000848\n"
     ]
    }
   ],
   "source": [
    "# Hull-White \n",
    "\n",
    "df_tmp = df_train.append(df_test)\n",
    "# Set up the keyword arguments for the run_linear_regression function\n",
    "kwargs = {\n",
    "    'features': ['vega_s', 'delta_vega_s', 'delta2_vega_s'],\n",
    "    'setup_name': 'Hull_White',\n",
    "    'df': df_tmp,\n",
    "    'max_period': 0,\n",
    "    'taret_var': True\n",
    "}\n",
    "# Run linear regression\n",
    "res = run_linear_regression(**kwargs)\n",
    "print(res['df_coef'])"
   ]
  },
  {
   "cell_type": "markdown",
   "metadata": {},
   "source": [
    "#### Relaxed Hull-White\n",
    "\n",
    "The purpose of this part is to evaluate the performance of the \"Hull-White (Relaxed)\" strategy, where features related to Hull-White regression are used as predictors for hedging. The linear regression is performed for each test set, and the resulting regression coefficients and fit standard deviations are printed.\n",
    "\n",
    "Code explanation:\n",
    "  - Create a temporary dataframe (`df_tmp`) by appending the training dataset (`df_train`) and the test dataset (`df_test`).\n",
    "  - Set up the keyword arguments (`kwargs`) for the `run_linear_regression` function, specifying the features, maximum period, dataframe.\n",
    "  - Run the linear regression using the `run_linear_regression` function with the specified keyword arguments and store the resulting regression results (`res`).\n",
    "  - The delta values are stored in `results_dict` dictionary."
   ]
  },
  {
   "cell_type": "code",
   "execution_count": 24,
   "metadata": {},
   "outputs": [
    {
     "name": "stdout",
     "output_type": "stream",
     "text": [
      "          0                                             1            \\\n",
      "   delta_bs   vega_s delta_vega_s delta2_vega_s  delta_bs    vega_s   \n",
      "0  0.277922 -0.00588    -0.061727     -0.009143 -0.042472 -0.000179   \n",
      "\n",
      "                              \n",
      "  delta_vega_s delta2_vega_s  \n",
      "0     0.014984      0.003384  \n"
     ]
    }
   ],
   "source": [
    "# Hull-White (Relaxed) \n",
    "df_tmp = df_train.append(df_test)\n",
    "# Set up the keyword arguments for the run_linear_regression function\n",
    "kwargs = {\n",
    "    'features': ['delta_bs', 'vega_s', 'delta_vega_s', 'delta2_vega_s'],\n",
    "    'setup_name': 'Hull_White_relaxed',\n",
    "    'df': df_tmp,\n",
    "    'max_period': 0,\n",
    "    'taret_var': True\n",
    "}\n",
    "# Run linear regression\n",
    "res = run_linear_regression(**kwargs)\n",
    "print(res['df_coef'])"
   ]
  },
  {
   "cell_type": "markdown",
   "metadata": {},
   "source": [
    "### Comparing Linear Regression Results for Different  Configurations\n",
    "In this analysis, we explore and visualize the results of linear regression for various configurations, providing insights into their performance and potential differences."
   ]
  },
  {
   "cell_type": "code",
   "execution_count": 25,
   "metadata": {},
   "outputs": [
    {
     "name": "stdout",
     "output_type": "stream",
     "text": [
      "No_Hedge\n",
      "15        0.0\n",
      "23        0.0\n",
      "24        0.0\n",
      "30        0.0\n",
      "38        0.0\n",
      "         ... \n",
      "136432    0.0\n",
      "136434    0.0\n",
      "136435    0.0\n",
      "136437    0.0\n",
      "136438    0.0\n",
      "Length: 419553, dtype: float64\n",
      "\n",
      "BS\n",
      "15        0.509384\n",
      "23        0.494956\n",
      "24        0.488504\n",
      "30        0.488214\n",
      "38        0.462669\n",
      "            ...   \n",
      "136432   -0.467822\n",
      "136434   -0.472030\n",
      "136435   -0.471145\n",
      "136437   -0.475343\n",
      "136438   -0.474465\n",
      "Name: delta_bs, Length: 419553, dtype: float64\n",
      "\n",
      "Delta_only\n",
      "15        0.528098\n",
      "23        0.513670\n",
      "24        0.507219\n",
      "30        0.506928\n",
      "38        0.481380\n",
      "            ...   \n",
      "136432   -0.463767\n",
      "136434   -0.467938\n",
      "136435   -0.467062\n",
      "136437   -0.471223\n",
      "136438   -0.470352\n",
      "Length: 419553, dtype: float64\n",
      "\n",
      "Delta_Vega\n",
      "15        0.545613\n",
      "23        0.531185\n",
      "24        0.524734\n",
      "30        0.524443\n",
      "38        0.498886\n",
      "            ...   \n",
      "136432   -0.465260\n",
      "136434   -0.469438\n",
      "136435   -0.468553\n",
      "136437   -0.472720\n",
      "136438   -0.471843\n",
      "Length: 419553, dtype: float64\n",
      "\n",
      "Delta_Gamma\n",
      "15        0.517194\n",
      "23        0.502767\n",
      "24        0.496316\n",
      "30        0.496024\n",
      "38        0.470508\n",
      "            ...   \n",
      "136432   -0.464604\n",
      "136434   -0.468780\n",
      "136435   -0.467899\n",
      "136437   -0.472066\n",
      "136438   -0.471190\n",
      "Length: 419553, dtype: float64\n",
      "\n",
      "Delta_Vanna\n",
      "15        0.509804\n",
      "23        0.495375\n",
      "24        0.488921\n",
      "30        0.488634\n",
      "38        0.462926\n",
      "            ...   \n",
      "136432   -0.464529\n",
      "136434   -0.468722\n",
      "136435   -0.467840\n",
      "136437   -0.472023\n",
      "136438   -0.471148\n",
      "Length: 419553, dtype: float64\n",
      "\n",
      "Delta_Gamma_Vanna\n",
      "15        0.504080\n",
      "23        0.489651\n",
      "24        0.483198\n",
      "30        0.482910\n",
      "38        0.457252\n",
      "            ...   \n",
      "136432   -0.465867\n",
      "136434   -0.470080\n",
      "136435   -0.469189\n",
      "136437   -0.473392\n",
      "136438   -0.472508\n",
      "Length: 419553, dtype: float64\n",
      "\n",
      "Delta_Vega_Gamma\n",
      "15        0.520075\n",
      "23        0.505647\n",
      "24        0.499196\n",
      "30        0.498905\n",
      "38        0.473385\n",
      "            ...   \n",
      "136432   -0.466298\n",
      "136434   -0.470483\n",
      "136435   -0.469592\n",
      "136437   -0.473766\n",
      "136438   -0.472882\n",
      "Length: 419553, dtype: float64\n",
      "\n",
      "Delta_Vega_Vanna\n",
      "15        0.521212\n",
      "23        0.506784\n",
      "24        0.500330\n",
      "30        0.500042\n",
      "38        0.474352\n",
      "            ...   \n",
      "136432   -0.464765\n",
      "136434   -0.468921\n",
      "136435   -0.468041\n",
      "136437   -0.472187\n",
      "136438   -0.471313\n",
      "Length: 419553, dtype: float64\n",
      "\n",
      "Delta_Vega_Gamma_Vanna\n",
      "15        0.488638\n",
      "23        0.474210\n",
      "24        0.467756\n",
      "30        0.467468\n",
      "38        0.441809\n",
      "            ...   \n",
      "136432   -0.466103\n",
      "136434   -0.470279\n",
      "136435   -0.469390\n",
      "136437   -0.473556\n",
      "136438   -0.472673\n",
      "Length: 419553, dtype: float64\n",
      "\n",
      "Vanna_only\n",
      "15        0.514816\n",
      "23        0.500388\n",
      "24        0.493934\n",
      "30        0.493646\n",
      "38        0.467966\n",
      "            ...   \n",
      "136432   -0.469410\n",
      "136434   -0.473671\n",
      "136435   -0.472774\n",
      "136437   -0.477026\n",
      "136438   -0.476135\n",
      "Length: 419553, dtype: float64\n",
      "\n",
      "Vega_only\n",
      "15        0.507669\n",
      "23        0.493241\n",
      "24        0.486790\n",
      "30        0.486499\n",
      "38        0.460955\n",
      "            ...   \n",
      "136432   -0.468482\n",
      "136434   -0.472692\n",
      "136435   -0.471806\n",
      "136437   -0.476006\n",
      "136438   -0.475126\n",
      "Length: 419553, dtype: float64\n",
      "\n",
      "Gamma_only\n",
      "15        0.500296\n",
      "23        0.485868\n",
      "24        0.479417\n",
      "30        0.479125\n",
      "38        0.453620\n",
      "            ...   \n",
      "136432   -0.468407\n",
      "136434   -0.472618\n",
      "136435   -0.471728\n",
      "136437   -0.475929\n",
      "136438   -0.475046\n",
      "Length: 419553, dtype: float64\n",
      "\n",
      "Hull_White\n",
      "15        0.526497\n",
      "23        0.512069\n",
      "24        0.505617\n",
      "30        0.505327\n",
      "38        0.479720\n",
      "            ...   \n",
      "136432   -0.462425\n",
      "136434   -0.466610\n",
      "136435   -0.465730\n",
      "136437   -0.469906\n",
      "136438   -0.469033\n",
      "Length: 419553, dtype: float64\n",
      "\n",
      "Hull_White_relaxed\n",
      "15        0.828165\n",
      "23        0.813736\n",
      "24        0.807279\n",
      "30        0.806995\n",
      "38        0.781070\n",
      "            ...   \n",
      "136432   -0.469385\n",
      "136434   -0.473497\n",
      "136435   -0.472633\n",
      "136437   -0.476734\n",
      "136438   -0.475877\n",
      "Length: 419553, dtype: float64\n",
      "\n"
     ]
    }
   ],
   "source": [
    "# Print delta values\n",
    "for setup,results in results_dict.items():\n",
    "    print(setup)\n",
    "    print(results)\n",
    "    print()"
   ]
  },
  {
   "cell_type": "code",
   "execution_count": 26,
   "metadata": {
    "scrolled": true
   },
   "outputs": [
    {
     "name": "stdout",
     "output_type": "stream",
     "text": [
      "No_Hedge HMSE: 0.5841938456661125\n",
      "BS HMSE: 0.0012855653441444655\n",
      "Delta_only HMSE: 0.0013307338673194662\n",
      "Delta_Vega HMSE: 0.0015386190552253362\n",
      "Delta_Gamma HMSE: 0.0011941685820317206\n",
      "Delta_Vanna HMSE: 0.001332793949772294\n",
      "Delta_Gamma_Vanna HMSE: 0.0012500598246228765\n",
      "Delta_Vega_Gamma HMSE: 0.0012065560389979333\n",
      "Delta_Vega_Vanna HMSE: 0.0012410582133362386\n",
      "Hull_White_relaxed HMSE: 0.024310208830454722\n",
      "Hull_White HMSE: 0.0012479273029527339\n",
      "Gamma_only HMSE: 0.0011941844000625062\n",
      "Vega_only HMSE: 0.0012866928369154305\n",
      "Vanna_only HMSE: 0.0012936925576464604\n",
      "Delta_Vega_Gamma_Vanna HMSE: 0.0014297587646802143\n"
     ]
    },
    {
     "data": {
      "text/plain": [
       "'\\nNo_Hedge HMSE: 78200.77237471062\\nBS HMSE: 172.08706253252208\\nDelta_only HMSE: 178.13336621325516\\nDelta_Vega HMSE: 205.961085351517\\nDelta_Gamma HMSE: 159.85260055934697\\nDelta_Vanna HMSE: 178.40913091047253\\nDelta_Gamma_Vanna HMSE: 167.334258183844\\nDelta_Vega_Gamma HMSE: 161.51079793630348\\nDelta_Vega_Vanna HMSE: 166.12929349540215\\nHull_White_relaxed HMSE: 3254.188864253527\\nHull_White HMSE: 167.04879670055396\\nGamma_only HMSE: 159.85471797676715\\nVega_only HMSE: 172.23798984232994\\nVanna_only HMSE: 173.1749794591121\\nDelta_Vega_Gamma_Vanna HMSE: 191.38893799885713\\n'"
      ]
     },
     "execution_count": 26,
     "metadata": {},
     "output_type": "execute_result"
    }
   ],
   "source": [
    "# Calcualte MSHE for different configurations\n",
    "hmse_dict= {}\n",
    "def calculate_pnl(df, delta, target_column='V1_n'):\n",
    "    \"\"\"\n",
    "    Calculate the Profit and Loss (PnL) for a given DataFrame and delta values.\n",
    "    We assume short option.\n",
    "    :param df: DataFrame containing the required columns (S0_n, S1_n, V0_n, V1_n, on_ret).\n",
    "    :param delta: Array of predicted delta values.\n",
    "    :param target_column: The target column name to compare to (default is 'V1_n').\n",
    "    :return: Series containing PnL values.\n",
    "    \"\"\"\n",
    "    s0, s1 = df['S0_n'], df['S1_n']\n",
    "    v0, v1 = df['V0_n'], df[target_column]\n",
    "    on_ret = df['on_ret']\n",
    "    \n",
    "    v1_hat = (v0 - delta * s0) * on_ret + delta * s1\n",
    "    pnl = v1_hat - v1\n",
    "    return pnl\n",
    "\n",
    "configurations = [\n",
    "    'No_Hedge', 'BS', 'Delta_only', 'Delta_Vega', 'Delta_Gamma',\n",
    "    'Delta_Vanna', 'Delta_Gamma_Vanna', 'Delta_Vega_Gamma',\n",
    "    'Delta_Vega_Vanna', 'Hull_White_relaxed', 'Hull_White',\n",
    "    'Gamma_only', 'Vega_only', 'Vanna_only', 'Delta_Vega_Gamma_Vanna'\n",
    "]\n",
    "\n",
    "for config in configurations:\n",
    "    df_result = results_dict[config]\n",
    "    # Calculate and print HMSE for the current configuration\n",
    "    pnl_reg = calculate_pnl(df_test, df_result[-df_test.shape[0]:])\n",
    "#     hmse = calculate_hmse(df_result[-df_test.shape[0]:],df_test)\n",
    "    hmse_reg = np.mean((df_test['V1_n'] - (df_test['V1_n'] + pnl_reg)) ** 2)\n",
    "    hmse_dict[config]= hmse_reg\n",
    "    print(f'{config} HMSE: {hmse_reg}')\n",
    "\n",
    "'''\n",
    "No_Hedge HMSE: 0.5841938456661125\n",
    "BS HMSE: 0.0012855653441444655\n",
    "Delta_only HMSE: 0.0013307338673194662\n",
    "Delta_Vega HMSE: 0.0015386190552253362\n",
    "Delta_Gamma HMSE: 0.0011941685820317206\n",
    "Delta_Vanna HMSE: 0.001332793949772294\n",
    "Delta_Gamma_Vanna HMSE: 0.0012500598246228765\n",
    "Delta_Vega_Gamma HMSE: 0.0012065560389979333\n",
    "Delta_Vega_Vanna HMSE: 0.0012410582133362386\n",
    "Hull_White_relaxed HMSE: 0.024310208830454722\n",
    "Hull_White HMSE: 0.0012479273029527339\n",
    "Gamma_only HMSE: 0.0011941844000625062\n",
    "Vega_only HMSE: 0.0012866928369154305\n",
    "Vanna_only HMSE: 0.0012936925576464604\n",
    "Delta_Vega_Gamma_Vanna HMSE: 0.0014297587646802143\n",
    "'''"
   ]
  },
  {
   "cell_type": "markdown",
   "metadata": {},
   "source": [
    "Next section calculates and prints the improvement in HMSE (Hedging Mean Squared Error) over the \"No_Hedge\" strategy for each configuration in the \"imp_dict\" dictionary. It then creates a bar plot using Matplotlib to visualize the HMSE values for each configuration. The x-axis represents the different configurations, and the y-axis shows the corresponding HMSE values. The title of the plot is \"HMSE for different configurations.\" The code also sets the figure size, labels, and rotation of x-axis labels for better readability. Finally, it displays the results. This allows us to compare the HMSE values of different configurations and observe their relative performance compared to the \"No_Hedge\" strategy."
   ]
  },
  {
   "cell_type": "code",
   "execution_count": 28,
   "metadata": {},
   "outputs": [
    {
     "name": "stdout",
     "output_type": "stream",
     "text": [
      "Improvement over No_Hedge strategy\n",
      "Hull_White_relaxed: 0.5598836368356578\n",
      "Delta_Vega: 0.5826552266108872\n",
      "Delta_Vega_Gamma_Vanna: 0.5827640869014323\n",
      "Delta_Vanna: 0.5828610517163403\n",
      "Delta_only: 0.5828631117987931\n",
      "Vanna_only: 0.5829001531084661\n",
      "Vega_only: 0.5829071528291971\n",
      "Delta_Gamma_Vanna: 0.5829437858414896\n",
      "Hull_White: 0.5829459183631598\n",
      "Delta_Vega_Vanna: 0.5829527874527763\n",
      "Delta_Vega_Gamma: 0.5829872896271147\n",
      "Gamma_only: 0.5829996612660501\n",
      "Delta_Gamma: 0.5829996770840808\n"
     ]
    },
    {
     "data": {
      "image/png": "[encoded data removed]",
      "text/plain": [
       "<Figure size 720x432 with 1 Axes>"
      ]
     },
     "metadata": {
      "needs_background": "light"
     },
     "output_type": "display_data"
    }
   ],
   "source": [
    "print('Improvement over No_Hedge strategy')\n",
    "imp_dict = {}\n",
    "for config in configurations:\n",
    "    if config != 'No_Hedge' and config != 'BS':\n",
    "        imp_dict[config] = hmse_dict['No_Hedge'] - hmse_dict[config]\n",
    "\n",
    "# Sort the imp_dict by values (HMSE difference with No_Hedge)\n",
    "sorted_imp_dict = {k: v for k, v in sorted(imp_dict.items(), key=lambda item: item[1])}\n",
    "\n",
    "# Print HMSE difference for each configuration\n",
    "for config, improvement in sorted_imp_dict.items():\n",
    "    print(f'{config}: {improvement}')\n",
    "\n",
    "# Define the starting value for the y-axis\n",
    "y_axis_start = 0\n",
    "\n",
    "# Plotting the HMSE values sorted by HMSE difference\n",
    "plt.figure(figsize=(10, 6))\n",
    "plt.bar(sorted_imp_dict.keys(), sorted_imp_dict.values())\n",
    "plt.xlabel('Configuration')\n",
    "plt.ylabel('HMSE(No Hedge) - HMSE')\n",
    "plt.title('HMSE difference with No_Hedge for different configurations')\n",
    "plt.xticks(rotation=45)\n",
    "\n",
    "# Set the y-axis limits to start from the specified value\n",
    "plt.ylim(y_axis_start, max(sorted_imp_dict.values()) * 1.1)  # You can adjust the multiplier for padding\n",
    "\n",
    "plt.show()\n",
    "\n"
   ]
  }
 ],
 "metadata": {
  "kernelspec": {
   "display_name": "Python 3",
   "language": "python",
   "name": "python3"
  },
  "language_info": {
   "codemirror_mode": {
    "name": "ipython",
    "version": 3
   },
   "file_extension": ".py",
   "mimetype": "text/x-python",
   "name": "python",
   "nbconvert_exporter": "python",
   "pygments_lexer": "ipython3",
   "version": "3.8.8"
  },
  "toc": {
   "base_numbering": 1,
   "nav_menu": {},
   "number_sections": true,
   "sideBar": true,
   "skip_h1_title": false,
   "title_cell": "Table of Contents",
   "title_sidebar": "Contents",
   "toc_cell": false,
   "toc_position": {},
   "toc_section_display": true,
   "toc_window_display": false
  }
 },
 "nbformat": 4,
 "nbformat_minor": 4
}
